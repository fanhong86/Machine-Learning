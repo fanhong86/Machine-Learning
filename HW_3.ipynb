{
 "cells": [
  {
   "cell_type": "markdown",
   "metadata": {},
   "source": [
    "## Problem 2,  Scraping, Entropy and ICML papers."
   ]
  },
  {
   "cell_type": "code",
   "execution_count": 1,
   "metadata": {
    "collapsed": true
   },
   "outputs": [],
   "source": [
    "# Libraries for PDF scraping\n",
    "import sys\n",
    "reload(sys)\n",
    "sys.setdefaultencoding('utf8')\n",
    "import urlparse\n",
    "import urllib2\n",
    "import os\n",
    "from bs4 import BeautifulSoup\n",
    "\n",
    "#Libraries for PDF preprocessing\n",
    "from cStringIO import StringIO\n",
    "from pdfminer.pdfinterp import PDFResourceManager, PDFPageInterpreter\n",
    "from pdfminer.converter import TextConverter\n",
    "from pdfminer.layout import LAParams\n",
    "from pdfminer.pdfpage import PDFPage\n",
    "import getopt\n",
    "import string\n",
    "import re\n",
    "\n",
    "import pandas as pd\n",
    "import numpy as np"
   ]
  },
  {
   "cell_type": "markdown",
   "metadata": {
    "collapsed": true
   },
   "source": [
    "### Scrape all the pdfs of all ICML 2017 papers from http://proceedings.mlr.press/v70/."
   ]
  },
  {
   "cell_type": "code",
   "execution_count": 2,
   "metadata": {
    "collapsed": true
   },
   "outputs": [],
   "source": [
    "def download_PDFs(url, output_dir):\n",
    "    try:\n",
    "        if not os.path.exists(output_dir):\n",
    "            os.makedirs(output_dir)\n",
    "            \n",
    "        request = urllib2.Request(url)\n",
    "        html = urllib2.urlopen(request)\n",
    "        soup = BeautifulSoup(html.read(), \"lxml\") #to parse the website\n",
    "  \n",
    "        for tag in soup.findAll('a', href=True): \n",
    "            link_str = os.path.splitext(os.path.basename(tag['href']))\n",
    "\n",
    "            if  (link_str[1] == '.pdf') and (not link_str[0].endswith('supp')):\n",
    "                current = urllib2.urlopen(tag['href'])\n",
    "                print \"\\n[*] Downloading: %s\" %(os.path.basename(tag['href']))\n",
    "\n",
    "                f = open(output_dir + os.path.basename(tag['href']), 'w+')\n",
    "                f.write(current.read())\n",
    "                f.close()\n",
    "    except:\n",
    "            print \"[*] Error.\"\n",
    "            sys.exit(1)"
   ]
  },
  {
   "cell_type": "code",
   "execution_count": 3,
   "metadata": {},
   "outputs": [],
   "source": [
    "url = \"http://proceedings.mlr.press/v70/\"\n",
    "download_path = \"./pdfs/\"\n",
    "\n",
    "#download_PDFs(url, download_path)"
   ]
  },
  {
   "cell_type": "markdown",
   "metadata": {},
   "source": [
    "### Convert PDF to text"
   ]
  },
  {
   "cell_type": "code",
   "execution_count": 4,
   "metadata": {
    "collapsed": true
   },
   "outputs": [],
   "source": [
    "#converts pdf, returns its text content as a string\n",
    "def convert(fname):\n",
    "    pagenums = set()\n",
    "\n",
    "    output = StringIO()\n",
    "    manager = PDFResourceManager()\n",
    "    converter = TextConverter(manager, output, laparams=LAParams())\n",
    "    interpreter = PDFPageInterpreter(manager, converter)\n",
    "\n",
    "    infile = file(fname, 'rb')\n",
    "    for page in PDFPage.get_pages(infile, pagenums):\n",
    "        interpreter.process_page(page)\n",
    "    infile.close()\n",
    "    converter.close()\n",
    "    text = output.getvalue()\n",
    "    output.close\n",
    "    return text "
   ]
  },
  {
   "cell_type": "code",
   "execution_count": 5,
   "metadata": {},
   "outputs": [],
   "source": [
    "# just try for 10 pdfs...\n",
    "pdfs = os.listdir(\"pdfs/\")[:10]\n",
    "# convert pdf to text\n",
    "docs= [convert('./pdfs/' + name) for name in pdfs if name.endswith('.pdf')]"
   ]
  },
  {
   "cell_type": "markdown",
   "metadata": {},
   "source": [
    "### Preprocess text"
   ]
  },
  {
   "cell_type": "code",
   "execution_count": 6,
   "metadata": {
    "collapsed": true
   },
   "outputs": [],
   "source": [
    "# Preproessing Text:\n",
    "# There are several ways to preprocess text. \n",
    "# Many Python libraries (nltk, scikit learn, gensim,...)\n",
    "# alredy have built-in functions to do it \n",
    "\n",
    "def preprocess(docs):\n",
    "    \n",
    "    #remove breaklines, convert to lowercase\n",
    "    docsProc = [string.replace(docs[i], '\\n', ' ') for i in range(len(docs))]\n",
    "    docsProc = [u.lower() for u in docsProc]\n",
    "\n",
    "    #remove punctuation\n",
    "    docsProc = [''.join(c for c in doc if c not in string.punctuation) for doc in docsProc]\n",
    "\n",
    "    #remove numbers\n",
    "    docsProc = [re.sub(\"\\d+\", \" \", doc) for doc in docsProc]\n",
    "\n",
    "    #trim whitespace\n",
    "    docsProc = [re.sub( '\\s+', ' ', doc ).strip() for doc in docsProc]\n",
    "\n",
    "    # Vectorize text by using bag of words. \n",
    "    # Notice that this function has parameters to do some of the preprocessing above...\n",
    "    from sklearn.feature_extraction.text import CountVectorizer\n",
    "\n",
    "    #read parameters of this function for text preprocessing... stopwords, lowercase, etc\n",
    "    vectorizer = CountVectorizer(stop_words='english', lowercase =True)\n",
    "    X = vectorizer.fit_transform(docsProc)\n",
    "\n",
    "    # One way to easily explore frequency terms is converting X to a DAtaframe\n",
    "    return pd.DataFrame(X.toarray(), columns = vectorizer.get_feature_names())"
   ]
  },
  {
   "cell_type": "code",
   "execution_count": 7,
   "metadata": {
    "collapsed": true
   },
   "outputs": [],
   "source": [
    "# Convert text to Bag of Words data frame\n",
    "dtm = preprocess(docs)"
   ]
  },
  {
   "cell_type": "markdown",
   "metadata": {},
   "source": [
    "### 1.  What are the top 10 common words in the ICML papers?"
   ]
  },
  {
   "cell_type": "code",
   "execution_count": 8,
   "metadata": {},
   "outputs": [
    {
     "data": {
      "text/plain": [
       "cid             711\n",
       "al              362\n",
       "et              348\n",
       "algorithm       244\n",
       "learning        205\n",
       "optimization    199\n",
       "method          149\n",
       "problem         130\n",
       "function        129\n",
       "process         118\n",
       "dtype: int64"
      ]
     },
     "execution_count": 8,
     "metadata": {},
     "output_type": "execute_result"
    }
   ],
   "source": [
    "def top_k_words(df, k):\n",
    "    \n",
    "    # Sum the frequency of each word over all documents\n",
    "    highest_freq = df.sum(axis=0) \n",
    "    highest_freq = highest_freq.sort_values(ascending=False) \n",
    "    \n",
    "    return highest_freq[0:k]\n",
    "\n",
    "print \"Top 10 words:\"\n",
    "top_k_words(dtm, 10)"
   ]
  },
  {
   "cell_type": "markdown",
   "metadata": {},
   "source": [
    "### 2. Entropy\n",
    "Let $Z$ be a randomly selected word in a randomly selected ICML paper.  Estimate the entropy of $Z$.\n",
    "\n",
    "To estimate the entropy of $Z$ we first need to estimate the distribution of $Z$.\n",
    "\n",
    "- Each PDF is randomly selected with probability $P(\\text{paper} = i) = \\frac{1}{\\# \\text{papers}}$.\n",
    "\n",
    "- Let $N_i$ be the number of different words in the paper $i$.  Then P(Z=z | paper = i) can be estimated by the relative frequency of the word $z$ in paper $i$.\n",
    "\n",
    "$$ P(Z=z |\\text{paper} = i) = \\frac{\\text{absolute frequeny of $z$ in paper $i$}}{N_i} $$\n",
    "\n",
    "Using the law of total probability, the marginal distribution of Z is\n",
    "$$ P(Z=z) = \\sum_{i \\in [\\# \\text{papers}]} P(Z=z |\\text{paper} = i) P(\\text{paper} = i) = \\frac{1}{\\# \\text{papers}} \\sum_{i \\in [\\# \\text{papers}]} P(Z=z |\\text{paper} = i)$$"
   ]
  },
  {
   "cell_type": "code",
   "execution_count": 9,
   "metadata": {
    "collapsed": true
   },
   "outputs": [],
   "source": [
    "# Probability of each paper i, P(paper=i)\n",
    "prob_of_paper = 1.0/dtm.shape[0]\n",
    "# Total number of words in paper i, N_i\n",
    "total_words_per_paper = dtm.sum(axis=1)\n",
    "# Relative Frequency of each word in each paper, P(Z=z|paper=i)\n",
    "relative_freqs_per_paper = dtm.divide(total_words_per_paper, axis=0)\n",
    "\n",
    "# Marginal Probability for each word P(Z=z)\n",
    "P_z = prob_of_paper*relative_freqs_per_paper.sum(axis=0)\n",
    "\n",
    "# Entropy\n",
    "entropy = -P_z.multiply(np.log(P_z)).sum()"
   ]
  },
  {
   "cell_type": "markdown",
   "metadata": {},
   "source": [
    "### 3. Synthesize a random paragraph"
   ]
  },
  {
   "cell_type": "code",
   "execution_count": 10,
   "metadata": {
    "collapsed": true
   },
   "outputs": [],
   "source": [
    "# Produce a paragraph of length l\n",
    "# param l: lenghth of the paragraph.\n",
    "# param p: words distribution\n",
    "def produce_paragraph(l, p):\n",
    "    wordsIndex = [np.random.multinomial(1,p,1).argmax() for i in range(l)]\n",
    "    return \" \".join(p.index.values[wordsIndex])"
   ]
  },
  {
   "cell_type": "code",
   "execution_count": 11,
   "metadata": {},
   "outputs": [
    {
     "data": {
      "text/plain": [
       "u'graph cpo ex eas sympo best labels granger power eqnets equivalence arbitrary using single improving reduces adds scs background bestknown lowperforming taken entropy step threedimensional max nonsmooth lin nodes contain sys puigdomenech lacostejulien steps sampling known compare bandit nonconvex default loss machine probability censoring optimal \\ufb01nding theorem pp semismooth latent initial triggering support forcing reduction figure regularization hei eigenvalues easy using onc positive cid high update ski achieve human rajaratnam algorithm table algorithms bandit risk faster patient al qt information turing observed shalevshwartz optimal newton estimators vs potential table probability centered hawkes objective parametrized iterations fixs \\ufb01xed ofpt information nodes'"
      ]
     },
     "execution_count": 11,
     "metadata": {},
     "output_type": "execute_result"
    }
   ],
   "source": [
    "produce_paragraph(100, P_z)"
   ]
  },
  {
   "cell_type": "code",
   "execution_count": 12,
   "metadata": {},
   "outputs": [
    {
     "data": {
      "text/plain": [
       "array(['cat', 'cat', 'cat', 'cat', 'cat'], dtype='|S3')"
      ]
     },
     "execution_count": 12,
     "metadata": {},
     "output_type": "execute_result"
    }
   ],
   "source": [
    "import numpy\n",
    "a = ['cat', 'dog']\n",
    "numpy.random.choice(a, size=5, replace=True, p=[1, 0])"
   ]
  },
  {
   "cell_type": "markdown",
   "metadata": {
    "collapsed": true
   },
   "source": [
    "## Problem 3, Starting in Kaggle \n",
    "#### (2) Follow the data preprocessing steps from https://www.kaggle.com/apapiu/house-prices-advanced-regression-techniques/regularized-linear-models.  Then run a ridge regression using $\\alpha = 0.1$. Make a submission of this prediction, what is the RMSE you get? (Hint:  remember to exponentiate np.expm1(ypred) your predictions)."
   ]
  },
  {
   "cell_type": "code",
   "execution_count": 13,
   "metadata": {
    "collapsed": true
   },
   "outputs": [],
   "source": [
    "#Import Libraries\n",
    "import pandas as pd\n",
    "import numpy as np\n",
    "import seaborn as sns\n",
    "import matplotlib\n",
    "\n",
    "import matplotlib.pyplot as plt\n",
    "from scipy.stats import skew\n",
    "from scipy.stats.stats import pearsonr\n",
    "\n",
    "\n",
    "%config InlineBackend.figure_format = 'retina' #set 'png' here when working on notebook\n",
    "%matplotlib inline"
   ]
  },
  {
   "cell_type": "code",
   "execution_count": 14,
   "metadata": {
    "collapsed": true
   },
   "outputs": [],
   "source": [
    "import os\n",
    "os.chdir(\".\")"
   ]
  },
  {
   "cell_type": "code",
   "execution_count": 15,
   "metadata": {
    "collapsed": true
   },
   "outputs": [],
   "source": [
    "#Read the data\n",
    "train = pd.read_csv(\"input/train.csv\")\n",
    "test = pd.read_csv(\"input/test.csv\")\n",
    "\n",
    "#Construct one dataset with all observations (test and train)\n",
    "all_data = pd.concat((train.loc[:,'MSSubClass':'SaleCondition'],\n",
    "                      test.loc[:,'MSSubClass':'SaleCondition']))"
   ]
  },
  {
   "cell_type": "code",
   "execution_count": 16,
   "metadata": {
    "collapsed": true
   },
   "outputs": [],
   "source": [
    "#log transform the target:\n",
    "train[\"SalePrice\"] = np.log1p(train[\"SalePrice\"])\n",
    "\n",
    "#log transform skewed numeric features:\n",
    "numeric_feats = all_data.dtypes[all_data.dtypes != \"object\"].index\n",
    "\n",
    "skewed_feats = train[numeric_feats].apply(lambda x: skew(x.dropna())) #compute skewness\n",
    "skewed_feats = skewed_feats[skewed_feats > 0.75]\n",
    "skewed_feats = skewed_feats.index\n",
    "\n",
    "all_data[skewed_feats] = np.log1p(all_data[skewed_feats])"
   ]
  },
  {
   "cell_type": "code",
   "execution_count": 17,
   "metadata": {
    "collapsed": true
   },
   "outputs": [],
   "source": [
    "all_data = pd.get_dummies(all_data)\n",
    "\n",
    "#filling NA's with the mean of the column:\n",
    "all_data = all_data.fillna(all_data.mean())"
   ]
  },
  {
   "cell_type": "markdown",
   "metadata": {},
   "source": [
    "We define a function to evaluate and compare different models using the root mean squared error (rmse) and a technique called Cross-Validation. This technique divides the trainset in k blocks (k=5 below). Then, it uses k-1 blocks for train and evaluates the model using the kth block. This procedure is repeated k times until every block has been used once as test.\n",
    "\n",
    "CrossValidation serves as a way of proving model robustness as it shows it's sensibility to different training data. The average of the errors is the error reported and it is a way to see if the performance of the model was by chance (if in a particular test set the model performed very well it could be for some particularity of those observations)"
   ]
  },
  {
   "cell_type": "code",
   "execution_count": 18,
   "metadata": {
    "collapsed": true
   },
   "outputs": [],
   "source": [
    "#creating matrices for sklearn:\n",
    "\n",
    "#Predictive models in sklearn receive feature observations for train, for evaluation (test) and labels for trainset\n",
    "X_train = all_data[:train.shape[0]]\n",
    "X_test = all_data[train.shape[0]:]\n",
    "y = train.SalePrice\n",
    "\n",
    "\n",
    "#Import model functions\n",
    "from sklearn.linear_model import Ridge, Lasso, RidgeCV, ElasticNet\n",
    "from sklearn.model_selection import cross_val_score\n",
    "\n",
    "# We define a function to evaluate and compare different models using the root mean squared error (rmse)\n",
    "\n",
    "def rmse_cv(model):\n",
    "    rmse= np.sqrt(-cross_val_score(model, X_train, y, scoring=\"neg_mean_squared_error\", cv = 5))\n",
    "    return(rmse)"
   ]
  },
  {
   "cell_type": "code",
   "execution_count": 19,
   "metadata": {
    "collapsed": true
   },
   "outputs": [],
   "source": [
    "# We train the model just for one alpha\n",
    "alpha = 0.1\n",
    "cv_ridge = rmse_cv(Ridge(alpha = alpha)).mean() "
   ]
  },
  {
   "cell_type": "code",
   "execution_count": 20,
   "metadata": {},
   "outputs": [
    {
     "data": {
      "text/plain": [
       "0.13777538277187923"
      ]
     },
     "execution_count": 20,
     "metadata": {},
     "output_type": "execute_result"
    }
   ],
   "source": [
    "# Error: \n",
    "print \"RMSE: \"\n",
    "cv_ridge"
   ]
  },
  {
   "cell_type": "code",
   "execution_count": 21,
   "metadata": {
    "collapsed": true
   },
   "outputs": [],
   "source": [
    "#fit the model. Usually now you use the best alpha determined by CrossValidation\n",
    "model_ridge = Ridge(alpha = alpha).fit(X_train,y)\n",
    "\n",
    "#predict\n",
    "ridge_preds = np.expm1(model_ridge.predict(X_test))\n",
    "\n",
    "#Create file with predictions\n",
    "solution = pd.DataFrame({\"id\":test.Id, \"SalePrice\":ridge_preds})\n",
    "solution.to_csv(\"ridge_sol.csv\", index = False)"
   ]
  },
  {
   "cell_type": "markdown",
   "metadata": {},
   "source": [
    "#### (3) Compare a ridge regression and a lasso regression model. Optimize the alphas using cross validation. What is the best score you can get from a single ridge regression model and from a single lasso model?"
   ]
  },
  {
   "cell_type": "code",
   "execution_count": 22,
   "metadata": {
    "collapsed": true
   },
   "outputs": [],
   "source": [
    "from sklearn.linear_model import Ridge, RidgeCV, ElasticNet, LassoCV, LassoLarsCV\n",
    "from sklearn.model_selection import cross_val_score\n",
    "\n",
    "def rmse_cv(model):\n",
    "    rmse= np.sqrt(-cross_val_score(model, X_train, y, scoring=\"neg_mean_squared_error\", cv = 5))\n",
    "    return(rmse)"
   ]
  },
  {
   "cell_type": "code",
   "execution_count": 23,
   "metadata": {
    "collapsed": true
   },
   "outputs": [],
   "source": [
    "model_ridge = Ridge()"
   ]
  },
  {
   "cell_type": "code",
   "execution_count": 24,
   "metadata": {},
   "outputs": [],
   "source": [
    "alphas_ridge = np.linspace(1e-5, 60, 30)\n",
    "cv_ridge = [rmse_cv(Ridge(alpha = alpha)).mean() \n",
    "            for alpha in alphas_ridge]\n",
    "\n",
    "alphas_lasso = np.linspace(1e-6, 1e-2, 20)\n",
    "cv_lasso = [rmse_cv(Lasso(alpha = alpha)).mean() \n",
    "            for alpha in alphas_lasso]"
   ]
  },
  {
   "cell_type": "code",
   "execution_count": 25,
   "metadata": {},
   "outputs": [
    {
     "data": {
      "text/plain": [
       "<matplotlib.text.Text at 0x118ae0ed0>"
      ]
     },
     "execution_count": 25,
     "metadata": {},
     "output_type": "execute_result"
    },
    {
     "data": {
      "image/png": "[encoded data removed]",
      "text/plain": [
       "<matplotlib.figure.Figure at 0x118753f10>"
      ]
     },
     "metadata": {
      "image/png": {
       "height": 277,
       "width": 400
      }
     },
     "output_type": "display_data"
    },
    {
     "data": {
      "image/png": "[encoded data removed]",
      "text/plain": [
       "<matplotlib.figure.Figure at 0x118777610>"
      ]
     },
     "metadata": {
      "image/png": {
       "height": 277,
       "width": 407
      }
     },
     "output_type": "display_data"
    }
   ],
   "source": [
    "cv_ridge = pd.Series(cv_ridge, index = alphas_ridge)\n",
    "cv_lasso = pd.Series(cv_lasso, index = alphas_lasso)\n",
    "\n",
    "best_ridge_alpha =  cv_ridge.idxmin()\n",
    "best_lasso_alpha = cv_lasso.idxmin()\n",
    "\n",
    "print('Best Ridge RMSE {} for alpha {}'.format(cv_ridge.min(), best_ridge_alpha))\n",
    "print('Best Lasso RMSE {} for alpha {}'.format(cv_lasso.min(), best_lasso_alpha))\n",
    "\n",
    "# Ridge RMSE - Cross Validation\n",
    "plt.figure();\n",
    "cv_ridge.plot(title = \"RIDGE, Cross - Validation against Different Alphas\")\n",
    "plt.xlabel(\"alpha\")\n",
    "plt.ylabel(\"rmse\")\n",
    "\n",
    "# Lasso RMSE - Cross Validation\n",
    "plt.figure();\n",
    "cv_lasso.plot(title = \"LASSO, Cross - Validation against Different Alphas\")\n",
    "plt.xlabel(\"alpha\")\n",
    "plt.ylabel(\"rmse\")"
   ]
  },
  {
   "cell_type": "markdown",
   "metadata": {},
   "source": [
    "#### (4) Plot the l0 norm (number of nonzeros) of the coefficients that lasso produces as you vary the strength of regularization parameter alpha."
   ]
  },
  {
   "cell_type": "code",
   "execution_count": 26,
   "metadata": {},
   "outputs": [
    {
     "data": {
      "image/png": "[encoded data removed]",
      "text/plain": [
       "<matplotlib.figure.Figure at 0x118b40ed0>"
      ]
     },
     "metadata": {
      "image/png": {
       "height": 265,
       "width": 386
      }
     },
     "output_type": "display_data"
    }
   ],
   "source": [
    "#alphas = [1, 0.1, 0.001, 0.0005, 1e-5, 1e-6]\n",
    "cv_lasso = [rmse_cv(LassoCV(alpha).fit(X_train,y)).mean() for alpha in alphas_lasso]\n",
    "coef = [LassoCV(alpha).fit(X_train,y).coef_ for alpha in alphas_lasso]\n",
    "l0 = list()\n",
    "for array in coef:\n",
    "    l0.append(sum(array != 0))\n",
    "plt.plot(alphas_lasso,l0)\n",
    "plt.xlabel('Alpha')\n",
    "plt.ylabel('L0 Norm')\n",
    "plt.show()"
   ]
  },
  {
   "cell_type": "markdown",
   "metadata": {},
   "source": [
    "#### (5) Add the outputs of your models as features and train a ridge regression on all the features plus the model outputs (This is called Ensembling and Stacking). Be careful not to overfit. What score can you get? (We will be discussing ensembling more, later in the class, but you can start playing with it now)."
   ]
  },
  {
   "cell_type": "code",
   "execution_count": 27,
   "metadata": {
    "collapsed": true
   },
   "outputs": [],
   "source": [
    "# Models\n",
    "ridge_model = Ridge(best_ridge_alpha).fit(X_train,y)\n",
    "lasso_model = Lasso(best_lasso_alpha).fit(X_train,y)\n",
    "\n",
    "# Stacking\n",
    "X_train_aug = X_train.copy()\n",
    "X_train_aug['y_ridge'] = np.expm1(ridge_model.predict(X_train))\n",
    "X_train_aug['y_lasso'] = np.expm1(lasso_model.predict(X_train))\n",
    "\n",
    "X_test_aug = X_test.copy()\n",
    "X_test_aug['y_ridge'] = np.expm1(ridge_model.predict(X_test))\n",
    "X_test_aug['y_lasso'] = np.expm1(lasso_model.predict(X_test))"
   ]
  },
  {
   "cell_type": "code",
   "execution_count": 28,
   "metadata": {},
   "outputs": [],
   "source": [
    "# New model\n",
    "aug_model = RidgeCV(alphas_ridge).fit(X_train_aug,y) \n",
    "\n",
    "# New predictions\n",
    "aug_preds = np.expm1(aug_model.predict(X_test_aug))\n",
    "\n",
    "# Create file with predictions\n",
    "solution = pd.DataFrame({\"id\":test.Id, \"SalePrice\":aug_preds})\n",
    "solution.to_csv(\"aug_ridge_sol.csv\", index = False)"
   ]
  },
  {
   "cell_type": "markdown",
   "metadata": {},
   "source": [
    "#### (6) Install XGBoost (Gradient Boosting) and train a gradient boosting regression."
   ]
  },
  {
   "cell_type": "code",
   "execution_count": 29,
   "metadata": {},
   "outputs": [],
   "source": [
    "import xgboost as xgb\n",
    "\n",
    "xgb_model = xgb.XGBRegressor(learning_rate=0.1, max_depth=3)\n",
    "xgb_model.fit(X_train, y)\n",
    "xgb_preds = np.expm1(xgb_model.predict(X_test))\n",
    "\n",
    "# Create file with predictions\n",
    "solution = pd.DataFrame({\"id\":test.Id, \"SalePrice\":xgb_preds})\n",
    "solution.to_csv(\"xgb_preds.csv\", index = False)"
   ]
  },
  {
   "cell_type": "code",
   "execution_count": null,
   "metadata": {
    "collapsed": true
   },
   "outputs": [],
   "source": []
  }
 ],
 "metadata": {
  "kernelspec": {
   "display_name": "Python 3",
   "language": "python",
   "name": "python3"
  },
  "language_info": {
   "codemirror_mode": {
    "name": "ipython",
    "version": 3
   },
   "file_extension": ".py",
   "mimetype": "text/x-python",
   "name": "python",
   "nbconvert_exporter": "python",
   "pygments_lexer": "ipython3",
   "version": "3.6.5"
  }
 },
 "nbformat": 4,
 "nbformat_minor": 2
}
